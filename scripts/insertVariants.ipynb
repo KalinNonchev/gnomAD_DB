{
 "cells": [
  {
   "cell_type": "code",
   "execution_count": null,
   "id": "2b5b398d-0ffe-4df9-8e57-5aaca0be0949",
   "metadata": {},
   "outputs": [],
   "source": [
    "import os\n",
    "#os.chdir('../')\n",
    "\n",
    "from gnomad_db.database import gnomAD_DB\n",
    "import numpy as np\n",
    "import pandas as pd\n",
    "import gzip\n",
    "from tqdm import tqdm\n",
    "import glob"
   ]
  },
  {
   "cell_type": "code",
   "execution_count": null,
   "id": "9e3b454f-40c6-4832-83a2-f3d446a514cf",
   "metadata": {
    "tags": [
     "parameters"
    ]
   },
   "outputs": [],
   "source": [
    "database_location = \"test_out\"\n",
    "tables_location = \"test_out\"\n",
    "genome = \"Grch38\""
   ]
  },
  {
   "cell_type": "code",
   "execution_count": null,
   "id": "f99fd9fa-7c44-4f5d-a4c7-1e581af95cd2",
   "metadata": {},
   "outputs": [],
   "source": [
    "# initialize database\n",
    "db = gnomAD_DB(database_location, genome=genome)"
   ]
  },
  {
   "cell_type": "code",
   "execution_count": null,
   "id": "26e968a7-b0e6-4086-9453-d6cc33e3b7e7",
   "metadata": {},
   "outputs": [],
   "source": [
    "table_sep = \"\\t\""
   ]
  },
  {
   "cell_type": "code",
   "execution_count": null,
   "id": "581b04b7-4b0d-4be5-b73f-fff1ebdd7e94",
   "metadata": {},
   "outputs": [],
   "source": [
    "# read variants from tsv.gz table in batches\n",
    "def load_batches(file, batch_size=500_000):\n",
    "    with gzip.open(file, \"rb\") as f:\n",
    "        batch = []\n",
    "        for line in tqdm(f):\n",
    "            line = line.decode().rstrip()\n",
    "            if len(batch) == batch_size:\n",
    "                batch = pd.DataFrame(batch, columns=db.columns).replace(\".\", np.NaN)\n",
    "                yield batch\n",
    "                batch = []\n",
    "\n",
    "            batch.append(line.split(table_sep))\n",
    "        \n",
    "        \n",
    "        if len(batch) != 0:\n",
    "            batch = pd.DataFrame(batch, columns=db.columns).replace(\".\", np.NaN)\n",
    "            yield batch"
   ]
  },
  {
   "cell_type": "code",
   "execution_count": null,
   "id": "845c883b-1dc4-467f-9e68-cebc6a48d0bf",
   "metadata": {},
   "outputs": [],
   "source": [
    "tables = glob.glob(f\"{tables_location}/*.tsv.gz\")\n",
    "tables"
   ]
  },
  {
   "cell_type": "code",
   "execution_count": null,
   "id": "065488a5-1151-4559-bb23-1bed1f056200",
   "metadata": {},
   "outputs": [],
   "source": [
    "for table in tables:\n",
    "    print(table)\n",
    "    for batch in load_batches(table):\n",
    "        db.insert_variants(batch)"
   ]
  },
  {
   "cell_type": "code",
   "execution_count": null,
   "id": "3227fc44-180a-4221-bb09-1eb5d291fa3a",
   "metadata": {},
   "outputs": [],
   "source": []
  }
 ],
 "metadata": {
  "jupytext": {
   "formats": "ipynb,py:percent"
  },
  "kernelspec": {
   "display_name": "utr_anno",
   "language": "python",
   "name": "utr_anno"
  },
  "language_info": {
   "codemirror_mode": {
    "name": "ipython",
    "version": 3
   },
   "file_extension": ".py",
   "mimetype": "text/x-python",
   "name": "python",
   "nbconvert_exporter": "python",
   "pygments_lexer": "ipython3",
   "version": "3.9.5"
  }
 },
 "nbformat": 4,
 "nbformat_minor": 5
}
