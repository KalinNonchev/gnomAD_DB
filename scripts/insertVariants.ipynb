{
 "cells": [
  {
   "cell_type": "code",
   "execution_count": null,
   "id": "e9cc5826",
   "metadata": {},
   "outputs": [],
   "source": [
    "import os\n",
    "#os.chdir('../')\n",
    "\n",
    "from gnomad_db.database import gnomAD_DB\n",
    "import numpy as np\n",
    "import pandas as pd\n",
    "import gzip\n",
    "from tqdm import tqdm\n",
    "import glob"
   ]
  },
  {
   "cell_type": "code",
   "execution_count": null,
   "id": "d685dde3",
   "metadata": {
    "tags": [
     "parameters"
    ]
   },
   "outputs": [],
   "source": [
    "database_location = \"test_out\"\n",
    "tables_location = \"test_out\"\n",
    "gnomad_version = \"v4\""
   ]
  },
  {
   "cell_type": "code",
   "execution_count": null,
   "id": "3d95c7aa",
   "metadata": {},
   "outputs": [],
   "source": [
    "# initialize database\n",
    "db = gnomAD_DB(database_location, gnomad_version=gnomad_version)"
   ]
  },
  {
   "cell_type": "code",
   "execution_count": null,
   "id": "f739d4db",
   "metadata": {},
   "outputs": [],
   "source": [
    "table_sep = \"\\t\""
   ]
  },
  {
   "cell_type": "code",
   "execution_count": null,
   "id": "bcebb226",
   "metadata": {},
   "outputs": [],
   "source": [
    "# read variants from tsv.gz table in batches\n",
    "def load_batches(file, batch_size=500_000):\n",
    "    with gzip.open(file, \"rb\") as f:\n",
    "        batch = []\n",
    "        for line in tqdm(f):\n",
    "            line = line.decode().rstrip()\n",
    "            if len(batch) == batch_size:\n",
    "                batch = pd.DataFrame(batch, columns=db.columns).replace(\".\", np.nan)\n",
    "                yield batch\n",
    "                batch = []\n",
    "\n",
    "            batch.append(line.split(table_sep))\n",
    "        \n",
    "        \n",
    "        if len(batch) != 0:\n",
    "            batch = pd.DataFrame(batch, columns=db.columns).replace(\".\", np.nan)\n",
    "            yield batch"
   ]
  },
  {
   "cell_type": "code",
   "execution_count": null,
   "id": "5baf39da",
   "metadata": {},
   "outputs": [],
   "source": [
    "tables = glob.glob(f\"{tables_location}/*.tsv.gz\")\n",
    "tables"
   ]
  },
  {
   "cell_type": "code",
   "execution_count": null,
   "id": "5b005188",
   "metadata": {},
   "outputs": [],
   "source": [
    "for table in tables:\n",
    "    print(table)\n",
    "    for batch in load_batches(table):\n",
    "        db.insert_variants(batch)"
   ]
  },
  {
   "cell_type": "code",
   "execution_count": null,
   "id": "425b21a4",
   "metadata": {},
   "outputs": [],
   "source": []
  }
 ],
 "metadata": {
  "jupytext": {
   "formats": "ipynb,py:percent"
  },
  "kernelspec": {
   "display_name": "utr_anno",
   "language": "python",
   "name": "utr_anno"
  },
  "language_info": {
   "codemirror_mode": {
    "name": "ipython",
    "version": 3
   },
   "file_extension": ".py",
   "mimetype": "text/x-python",
   "name": "python",
   "nbconvert_exporter": "python",
   "pygments_lexer": "ipython3",
   "version": "3.9.5"
  }
 },
 "nbformat": 4,
 "nbformat_minor": 5
}
