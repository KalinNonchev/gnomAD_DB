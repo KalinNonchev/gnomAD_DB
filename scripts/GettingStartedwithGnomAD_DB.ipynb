{
 "cells": [
  {
   "cell_type": "code",
   "execution_count": 1,
   "id": "ac0fca47",
   "metadata": {},
   "outputs": [],
   "source": [
    "from gnomad_db.database import gnomAD_DB\n",
    "import pandas as pd\n",
    "import numpy as np"
   ]
  },
  {
   "cell_type": "markdown",
   "id": "acdaa43f",
   "metadata": {},
   "source": [
    "# Download SQLite preprocessed files\n",
    "\n",
    "I have preprocessed and created sqlite3 files for gnomAD v2, v3, v4 for you, which can be easily downloaded from here. They contain all variants on the 24 standard chromosomes.\n",
    "\n",
    "You can find the links to download the sqlite3 file in the README (https://github.com/KalinNonchev/gnomAD_DB)"
   ]
  },
  {
   "cell_type": "code",
   "execution_count": 8,
   "id": "13b2eb85",
   "metadata": {},
   "outputs": [
    {
     "name": "stdout",
     "output_type": "stream",
     "text": [
      "Starting downloading...\n"
     ]
    },
    {
     "name": "stderr",
     "output_type": "stream",
     "text": [
      "gnomad_db_wes_v4.0.sqlite3.gz?download=1: 7.31GB [12:40, 9.62MB/s]                                                                                                          \n"
     ]
    },
    {
     "name": "stdout",
     "output_type": "stream",
     "text": [
      "Starting unzipping. This can take some time...\n",
      "Database location: test_dir/gnomad_db.sqlite3\n",
      "Done!\n"
     ]
    }
   ],
   "source": [
    "# uncomment if you actually want to download it\n",
    "download_link = \"https://zenodo.org/records/10066310/files/gnomad_db_wes_v4.0.sqlite3.gz?download=1\"\n",
    "output_dir = \"test_dir\" # database_location\n",
    "gnomAD_DB.download_and_unzip(download_link, output_dir) "
   ]
  },
  {
   "cell_type": "markdown",
   "id": "aab41c34",
   "metadata": {},
   "source": [
    "# Initialize Database"
   ]
  },
  {
   "cell_type": "code",
   "execution_count": 9,
   "id": "dc9b3e8c",
   "metadata": {
    "tags": [
     "parameters"
    ]
   },
   "outputs": [],
   "source": [
    "# pass dir\n",
    "database_location = \"test_dir\""
   ]
  },
  {
   "cell_type": "code",
   "execution_count": 11,
   "id": "7f430055",
   "metadata": {},
   "outputs": [
    {
     "ename": "AssertionError",
     "evalue": "We don't support this version: v45. Please select one fo the following ones: ['v2', 'v3', 'v4']",
     "output_type": "error",
     "traceback": [
      "\u001b[0;31m---------------------------------------------------------------------------\u001b[0m",
      "\u001b[0;31mAssertionError\u001b[0m                            Traceback (most recent call last)",
      "\u001b[0;32m/tmp/user/31932/ipykernel_1570523/790803492.py\u001b[0m in \u001b[0;36m<module>\u001b[0;34m\u001b[0m\n\u001b[1;32m      1\u001b[0m \u001b[0;31m# initialize database\u001b[0m\u001b[0;34m\u001b[0m\u001b[0;34m\u001b[0m\u001b[0m\n\u001b[0;32m----> 2\u001b[0;31m \u001b[0mdb\u001b[0m \u001b[0;34m=\u001b[0m \u001b[0mgnomAD_DB\u001b[0m\u001b[0;34m(\u001b[0m\u001b[0mdatabase_location\u001b[0m\u001b[0;34m,\u001b[0m \u001b[0mgnomad_version\u001b[0m\u001b[0;34m=\u001b[0m\u001b[0;34m\"v45\"\u001b[0m\u001b[0;34m)\u001b[0m\u001b[0;34m\u001b[0m\u001b[0m\n\u001b[0m",
      "\u001b[0;32m~/code/gnomAD_DB/gnomad_db/database.py\u001b[0m in \u001b[0;36m__init__\u001b[0;34m(self, genodb_path, gnomad_version, parallel, cpu_count)\u001b[0m\n\u001b[1;32m     28\u001b[0m \u001b[0;34m\u001b[0m\u001b[0m\n\u001b[1;32m     29\u001b[0m \u001b[0;34m\u001b[0m\u001b[0m\n\u001b[0;32m---> 30\u001b[0;31m         \u001b[0mself\u001b[0m\u001b[0;34m.\u001b[0m\u001b[0mgnomad_version\u001b[0m \u001b[0;34m=\u001b[0m \u001b[0mself\u001b[0m\u001b[0;34m.\u001b[0m\u001b[0m_parse_gnomad_version\u001b[0m\u001b[0;34m(\u001b[0m\u001b[0mgnomad_version\u001b[0m\u001b[0;34m,\u001b[0m \u001b[0mlist\u001b[0m\u001b[0;34m(\u001b[0m\u001b[0mcolumns\u001b[0m\u001b[0;34m.\u001b[0m\u001b[0mkeys\u001b[0m\u001b[0;34m(\u001b[0m\u001b[0;34m)\u001b[0m\u001b[0;34m)\u001b[0m\u001b[0;34m[\u001b[0m\u001b[0;36m1\u001b[0m\u001b[0;34m:\u001b[0m\u001b[0;34m]\u001b[0m\u001b[0;34m)\u001b[0m\u001b[0;34m\u001b[0m\u001b[0m\n\u001b[0m\u001b[1;32m     31\u001b[0m \u001b[0;34m\u001b[0m\u001b[0m\n\u001b[1;32m     32\u001b[0m         \u001b[0mself\u001b[0m\u001b[0;34m.\u001b[0m\u001b[0mcolumns\u001b[0m \u001b[0;34m=\u001b[0m \u001b[0mlist\u001b[0m\u001b[0;34m(\u001b[0m\u001b[0mmap\u001b[0m\u001b[0;34m(\u001b[0m\u001b[0;32mlambda\u001b[0m \u001b[0mx\u001b[0m\u001b[0;34m:\u001b[0m \u001b[0mx\u001b[0m\u001b[0;34m.\u001b[0m\u001b[0mlower\u001b[0m\u001b[0;34m(\u001b[0m\u001b[0;34m)\u001b[0m\u001b[0;34m,\u001b[0m \u001b[0mcolumns\u001b[0m\u001b[0;34m[\u001b[0m\u001b[0;34m\"base_columns\"\u001b[0m\u001b[0;34m]\u001b[0m\u001b[0;34m)\u001b[0m\u001b[0;34m)\u001b[0m \u001b[0;34m+\u001b[0m \u001b[0mcolumns\u001b[0m\u001b[0;34m[\u001b[0m\u001b[0mself\u001b[0m\u001b[0;34m.\u001b[0m\u001b[0mgnomad_version\u001b[0m\u001b[0;34m]\u001b[0m\u001b[0;34m\u001b[0m\u001b[0m\n",
      "\u001b[0;32m~/code/gnomAD_DB/gnomad_db/database.py\u001b[0m in \u001b[0;36m_parse_gnomad_version\u001b[0;34m(self, gnomad_version, supported_gnomad_versions)\u001b[0m\n\u001b[1;32m    179\u001b[0m         \u001b[0mgnomad_version\u001b[0m \u001b[0;34m=\u001b[0m \u001b[0mstr\u001b[0m\u001b[0;34m(\u001b[0m\u001b[0mgnomad_version\u001b[0m\u001b[0;34m)\u001b[0m\u001b[0;34m\u001b[0m\u001b[0m\n\u001b[1;32m    180\u001b[0m         \u001b[0mgnomad_version\u001b[0m \u001b[0;34m=\u001b[0m \u001b[0mgnomad_version\u001b[0m\u001b[0;34m.\u001b[0m\u001b[0msplit\u001b[0m\u001b[0;34m(\u001b[0m\u001b[0;34m\".\"\u001b[0m\u001b[0;34m)\u001b[0m\u001b[0;34m[\u001b[0m\u001b[0;34m-\u001b[0m\u001b[0;36m1\u001b[0m\u001b[0;34m]\u001b[0m\u001b[0;34m\u001b[0m\u001b[0m\n\u001b[0;32m--> 181\u001b[0;31m         \u001b[0;32massert\u001b[0m \u001b[0mgnomad_version\u001b[0m \u001b[0;32min\u001b[0m \u001b[0msupported_gnomad_versions\u001b[0m\u001b[0;34m,\u001b[0m \u001b[0;34mf\"We don't support this version: {gnomad_version}. Please select one fo the following ones: {supported_gnomad_versions}\"\u001b[0m\u001b[0;34m\u001b[0m\u001b[0m\n\u001b[0m\u001b[1;32m    182\u001b[0m         \u001b[0;32mreturn\u001b[0m \u001b[0mgnomad_version\u001b[0m\u001b[0;34m\u001b[0m\u001b[0m\n\u001b[1;32m    183\u001b[0m \u001b[0;34m\u001b[0m\u001b[0m\n",
      "\u001b[0;31mAssertionError\u001b[0m: We don't support this version: v45. Please select one fo the following ones: ['v2', 'v3', 'v4']"
     ]
    }
   ],
   "source": [
    "# initialize database\n",
    "db = gnomAD_DB(database_location, gnomad_version=\"v45\")"
   ]
  },
  {
   "cell_type": "markdown",
   "id": "a9e3006f",
   "metadata": {},
   "source": [
    "# Insert gnomAD variants into the database from single tsv file\n",
    "Look into insertVariants notebook to do it for big vcf files"
   ]
  },
  {
   "cell_type": "code",
   "execution_count": null,
   "id": "8def6a52",
   "metadata": {},
   "outputs": [],
   "source": [
    "# get some variants\n",
    "var_df = pd.read_csv(\"data/test_vcf_gnomad_chr21_10000.tsv.gz\", sep=\"\\t\", names=db.columns, index_col=False)\n",
    "# preprocess missing values\n",
    "# IMPORTANT: The database removes internally chr prefix (chr1->1)\n",
    "var_df = var_df.replace(\".\", np.NaN)\n",
    "var_df.head()"
   ]
  },
  {
   "cell_type": "code",
   "execution_count": null,
   "id": "34dbb770",
   "metadata": {},
   "outputs": [],
   "source": [
    "# insert variants\n",
    "db.insert_variants(var_df)"
   ]
  },
  {
   "cell_type": "markdown",
   "id": "7a9243d2",
   "metadata": {},
   "source": [
    "# Query MAF"
   ]
  },
  {
   "cell_type": "code",
   "execution_count": null,
   "id": "835e50b4",
   "metadata": {},
   "outputs": [],
   "source": [
    "# check db columns, which we can query\n",
    "db.columns"
   ]
  },
  {
   "cell_type": "code",
   "execution_count": null,
   "id": "eb3a308d",
   "metadata": {},
   "outputs": [],
   "source": [
    "var_df = var_df[[\"chrom\", \"pos\", \"ref\", \"alt\"]]\n",
    "var_df.head()"
   ]
  },
  {
   "cell_type": "markdown",
   "id": "b879dad5",
   "metadata": {},
   "source": [
    "## You can pass a dataframe with variants\n",
    "It should contain the columns: [chrom, pos, ref, alt]"
   ]
  },
  {
   "cell_type": "code",
   "execution_count": null,
   "id": "36014921",
   "metadata": {},
   "outputs": [],
   "source": [
    "db.get_info_from_df(var_df, \"AF\").head() # only one columns"
   ]
  },
  {
   "cell_type": "code",
   "execution_count": null,
   "id": "a7bfea3b",
   "metadata": {},
   "outputs": [],
   "source": [
    "db.get_info_from_df(var_df, \"AF, AF_popmax\").head() # multiple columns"
   ]
  },
  {
   "cell_type": "code",
   "execution_count": null,
   "id": "0aaa8a58",
   "metadata": {},
   "outputs": [],
   "source": [
    "db.get_info_from_df(var_df, \"*\") # everything"
   ]
  },
  {
   "cell_type": "code",
   "execution_count": null,
   "id": "88c20646",
   "metadata": {},
   "outputs": [],
   "source": [
    "dummy_var_df = pd.DataFrame({\n",
    "    \"chrom\": [\"1\", \"21\"], \n",
    "    \"pos\": [21, 9825790], \n",
    "    \"ref\": [\"T\", \"C\"], \n",
    "    \"alt\": [\"G\", \"T\"]})\n",
    "dummy_var_df"
   ]
  },
  {
   "cell_type": "code",
   "execution_count": null,
   "id": "ef74e6bd",
   "metadata": {},
   "outputs": [],
   "source": [
    "db.get_info_from_df(dummy_var_df, \"AF\")"
   ]
  },
  {
   "cell_type": "markdown",
   "id": "b4261ffd",
   "metadata": {},
   "source": [
    "## You can pass a single string as a variant"
   ]
  },
  {
   "cell_type": "code",
   "execution_count": 7,
   "id": "084c732a",
   "metadata": {},
   "outputs": [
    {
     "data": {
      "text/plain": [
       "chrom                   10\n",
       "pos               95606780\n",
       "ref                      A\n",
       "alt                      C\n",
       "filter                PASS\n",
       "AC                     2.0\n",
       "AN                628768.0\n",
       "AF                0.000003\n",
       "MQ                    60.0\n",
       "QD                 12.1796\n",
       "ReadPosRankSum       0.365\n",
       "VarDP                412.0\n",
       "AS_VQSLOD           5.5239\n",
       "AC_grpmax              2.0\n",
       "AN_grpmax         350092.0\n",
       "AF_grpmax         0.000006\n",
       "AF_eas                 0.0\n",
       "AF_nfe            0.000006\n",
       "AF_fin                 0.0\n",
       "AF_afr                 0.0\n",
       "AF_asj                 0.0\n",
       "Name: 0, dtype: object"
      ]
     },
     "execution_count": 7,
     "metadata": {},
     "output_type": "execute_result"
    }
   ],
   "source": [
    "db.get_info_from_str(\"10:95606780:A>C\", \"*\")"
   ]
  },
  {
   "cell_type": "code",
   "execution_count": null,
   "id": "e72d5071",
   "metadata": {},
   "outputs": [],
   "source": [
    "db.get_info_from_str(\"21:9825790:C>T\", \"*\")"
   ]
  },
  {
   "cell_type": "markdown",
   "id": "b2cd63fc",
   "metadata": {},
   "source": [
    "## You can look for the MAF scores in an interval"
   ]
  },
  {
   "cell_type": "code",
   "execution_count": null,
   "id": "0e587bf1",
   "metadata": {},
   "outputs": [],
   "source": [
    "db.get_info_for_interval(chrom=21, interval_start=9825780, interval_end=9825799, query=\"*\")"
   ]
  }
 ],
 "metadata": {
  "jupytext": {
   "formats": "ipynb,py:percent"
  },
  "kernelspec": {
   "display_name": "gnomad_db",
   "language": "python",
   "name": "gnomad_db"
  },
  "language_info": {
   "codemirror_mode": {
    "name": "ipython",
    "version": 3
   },
   "file_extension": ".py",
   "mimetype": "text/x-python",
   "name": "python",
   "nbconvert_exporter": "python",
   "pygments_lexer": "ipython3",
   "version": "3.7.0"
  }
 },
 "nbformat": 4,
 "nbformat_minor": 5
}
