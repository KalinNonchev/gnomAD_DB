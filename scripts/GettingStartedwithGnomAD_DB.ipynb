{
 "cells": [
  {
   "cell_type": "code",
   "execution_count": null,
   "id": "09f4d260",
   "metadata": {},
   "outputs": [],
   "source": [
    "from gnomad_db.database import gnomAD_DB\n",
    "import pandas as pd\n",
    "import numpy as np"
   ]
  },
  {
   "cell_type": "markdown",
   "id": "3fc686b3",
   "metadata": {},
   "source": [
    "# Download SQLite preprocessed files\n",
    "\n",
    "I have preprocessed and created sqlite3 files for gnomAD v2, v3, v4 for you, which can be easily downloaded from here. They contain all variants on the 24 standard chromosomes.\n",
    "\n",
    "You can find the links to download the sqlite3 file in the README (https://github.com/KalinNonchev/gnomAD_DB)"
   ]
  },
  {
   "cell_type": "code",
   "execution_count": null,
   "id": "94f31d05",
   "metadata": {},
   "outputs": [],
   "source": [
    "# uncomment if you actually want to download it\n",
    "# download_link = \"https://zenodo.org/record/5045102/files/gnomad_db_v2.1.1.sqlite3.gz?download=1\"\n",
    "# output_dir = \"test_dir\" # database_location\n",
    "# gnomAD_DB.download_and_unzip(download_link, output_dir) "
   ]
  },
  {
   "cell_type": "markdown",
   "id": "6c140086",
   "metadata": {},
   "source": [
    "# Initialize Database"
   ]
  },
  {
   "cell_type": "code",
   "execution_count": null,
   "id": "4acdaab3",
   "metadata": {
    "tags": [
     "parameters"
    ]
   },
   "outputs": [],
   "source": [
    "# pass dir\n",
    "database_location = \"test_dir\""
   ]
  },
  {
   "cell_type": "code",
   "execution_count": null,
   "id": "8c7b431e",
   "metadata": {},
   "outputs": [],
   "source": [
    "# initialize database\n",
    "db = gnomAD_DB(database_location, gnomad_version=\"v3\")"
   ]
  },
  {
   "cell_type": "markdown",
   "id": "34cea3dc",
   "metadata": {},
   "source": [
    "# Insert gnomAD variants into the database from single tsv file\n",
    "Look into insertVariants notebook to do it for big vcf files"
   ]
  },
  {
   "cell_type": "code",
   "execution_count": null,
   "id": "dc60de98",
   "metadata": {},
   "outputs": [],
   "source": [
    "# get some variants\n",
    "var_df = pd.read_csv(\"data/test_vcf_gnomad_chr21_10000.tsv.gz\", sep=\"\\t\", names=db.columns, index_col=False)\n",
    "# preprocess missing values\n",
    "# IMPORTANT: The database removes internally chr prefix (chr1->1)\n",
    "var_df = var_df.replace(\".\", np.NaN)\n",
    "var_df.head()"
   ]
  },
  {
   "cell_type": "code",
   "execution_count": null,
   "id": "c3dcd83a",
   "metadata": {},
   "outputs": [],
   "source": [
    "# insert variants\n",
    "db.insert_variants(var_df)"
   ]
  },
  {
   "cell_type": "markdown",
   "id": "a837251b",
   "metadata": {},
   "source": [
    "# Query MAF"
   ]
  },
  {
   "cell_type": "code",
   "execution_count": null,
   "id": "21de3d07",
   "metadata": {},
   "outputs": [],
   "source": [
    "# check db columns, which we can query\n",
    "db.columns"
   ]
  },
  {
   "cell_type": "code",
   "execution_count": null,
   "id": "277d0201",
   "metadata": {},
   "outputs": [],
   "source": [
    "var_df = var_df[[\"chrom\", \"pos\", \"ref\", \"alt\"]]\n",
    "var_df.head()"
   ]
  },
  {
   "cell_type": "markdown",
   "id": "7eb48461",
   "metadata": {},
   "source": [
    "## You can pass a dataframe with variants\n",
    "It should contain the columns: [chrom, pos, ref, alt]"
   ]
  },
  {
   "cell_type": "code",
   "execution_count": null,
   "id": "c62a4754",
   "metadata": {},
   "outputs": [],
   "source": [
    "db.get_info_from_df(var_df, \"AF\").head() # only one columns"
   ]
  },
  {
   "cell_type": "code",
   "execution_count": null,
   "id": "c179fedc",
   "metadata": {},
   "outputs": [],
   "source": [
    "db.get_info_from_df(var_df, \"AF, AF_popmax\").head() # multiple columns"
   ]
  },
  {
   "cell_type": "code",
   "execution_count": null,
   "id": "44969569",
   "metadata": {},
   "outputs": [],
   "source": [
    "db.get_info_from_df(var_df, \"*\") # everything"
   ]
  },
  {
   "cell_type": "code",
   "execution_count": null,
   "id": "1a37c4e5",
   "metadata": {},
   "outputs": [],
   "source": [
    "dummy_var_df = pd.DataFrame({\n",
    "    \"chrom\": [\"1\", \"21\"], \n",
    "    \"pos\": [21, 9825790], \n",
    "    \"ref\": [\"T\", \"C\"], \n",
    "    \"alt\": [\"G\", \"T\"]})\n",
    "dummy_var_df"
   ]
  },
  {
   "cell_type": "code",
   "execution_count": null,
   "id": "537d8d7e",
   "metadata": {},
   "outputs": [],
   "source": [
    "db.get_info_from_df(dummy_var_df, \"AF\")"
   ]
  },
  {
   "cell_type": "markdown",
   "id": "7bbe5975",
   "metadata": {},
   "source": [
    "## You can pass a single string as a variant"
   ]
  },
  {
   "cell_type": "code",
   "execution_count": null,
   "id": "14a15cf6",
   "metadata": {},
   "outputs": [],
   "source": [
    "db.get_info_from_str(\"21:9825790:C>T\", \"AF\")"
   ]
  },
  {
   "cell_type": "code",
   "execution_count": null,
   "id": "f667cb7d",
   "metadata": {},
   "outputs": [],
   "source": [
    "db.get_info_from_str(\"21:9825790:C>T\", \"*\")"
   ]
  },
  {
   "cell_type": "markdown",
   "id": "81251ef8",
   "metadata": {},
   "source": [
    "## You can look for the MAF scores in an interval"
   ]
  },
  {
   "cell_type": "code",
   "execution_count": null,
   "id": "dababf3a",
   "metadata": {},
   "outputs": [],
   "source": [
    "db.get_info_for_interval(chrom=21, interval_start=9825780, interval_end=9825799, query=\"*\")"
   ]
  }
 ],
 "metadata": {
  "jupytext": {
   "formats": "ipynb,py:percent"
  },
  "kernelspec": {
   "display_name": "gnomad_db",
   "language": "python",
   "name": "gnomad_db"
  },
  "language_info": {
   "codemirror_mode": {
    "name": "ipython",
    "version": 3
   },
   "file_extension": ".py",
   "mimetype": "text/x-python",
   "name": "python",
   "nbconvert_exporter": "python",
   "pygments_lexer": "ipython3",
   "version": "3.7.0"
  }
 },
 "nbformat": 4,
 "nbformat_minor": 5
}
