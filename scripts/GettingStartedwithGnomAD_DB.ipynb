{
 "cells": [
  {
   "cell_type": "code",
   "execution_count": 1,
   "id": "12c65da9-cb0c-42f6-a92c-cf0c2535ba13",
   "metadata": {},
   "outputs": [
    {
     "ename": "ModuleNotFoundError",
     "evalue": "No module named 'gnomad_db'",
     "output_type": "error",
     "traceback": [
      "\u001b[0;31m---------------------------------------------------------------------------\u001b[0m",
      "\u001b[0;31mModuleNotFoundError\u001b[0m                       Traceback (most recent call last)",
      "\u001b[0;32m<ipython-input-1-bdb52782e0fc>\u001b[0m in \u001b[0;36m<module>\u001b[0;34m\u001b[0m\n\u001b[0;32m----> 1\u001b[0;31m \u001b[0;32mfrom\u001b[0m \u001b[0mgnomad_db\u001b[0m\u001b[0;34m.\u001b[0m\u001b[0mdatabase\u001b[0m \u001b[0;32mimport\u001b[0m \u001b[0mgnomAD_DB\u001b[0m\u001b[0;34m\u001b[0m\u001b[0;34m\u001b[0m\u001b[0m\n\u001b[0m\u001b[1;32m      2\u001b[0m \u001b[0;32mimport\u001b[0m \u001b[0mpandas\u001b[0m \u001b[0;32mas\u001b[0m \u001b[0mpd\u001b[0m\u001b[0;34m\u001b[0m\u001b[0;34m\u001b[0m\u001b[0m\n\u001b[1;32m      3\u001b[0m \u001b[0;32mimport\u001b[0m \u001b[0mnumpy\u001b[0m \u001b[0;32mas\u001b[0m \u001b[0mnp\u001b[0m\u001b[0;34m\u001b[0m\u001b[0;34m\u001b[0m\u001b[0m\n",
      "\u001b[0;31mModuleNotFoundError\u001b[0m: No module named 'gnomad_db'"
     ]
    }
   ],
   "source": [
    "from gnomad_db.database import gnomAD_DB\n",
    "import pandas as pd\n",
    "import numpy as np"
   ]
  },
  {
   "cell_type": "markdown",
   "id": "20ffe529-064d-482b-9267-9b0fd729070c",
   "metadata": {},
   "source": [
    "# Download SQLite preprocessed files\n",
    "\n",
    "I have preprocessed and created sqlite3 files for gnomAD v2.1.1 and 3.1.1 for you, which can be easily downloaded from here. They contain all variants on the 24 standard chromosomes.\n",
    "\n",
    "gnomAD v3.1.1 (hg38, 759'302'267 variants) 25G zipped, 56G in total - https://zenodo.org/record/5045170/files/gnomad_db_v3.1.1.sqlite3.gz?download=1 \n",
    "gnomAD v2.1.1 (hg19, 261'942'336 variants) 9G zipped, 20G in total - https://zenodo.org/record/5045102/files/gnomad_db_v2.1.1.sqlite3.gz?download=1 "
   ]
  },
  {
   "cell_type": "code",
   "execution_count": null,
   "id": "e525076f-8540-444f-912a-b411a224f0ec",
   "metadata": {},
   "outputs": [],
   "source": [
    "# uncomment if you actually want to download it\n",
    "# download_link = \"https://zenodo.org/record/5045102/files/gnomad_db_v2.1.1.sqlite3.gz?download=1\"\n",
    "# output_dir = \"test_dir\" # database_location\n",
    "# gnomAD_DB.download_and_unzip(download_link, output_dir) "
   ]
  },
  {
   "cell_type": "markdown",
   "id": "3fa70b8a-1d43-4929-bfee-4df0d071f9fa",
   "metadata": {},
   "source": [
    "# Initialize Database"
   ]
  },
  {
   "cell_type": "code",
   "execution_count": null,
   "id": "2f7dc0cb-9748-4de8-b93d-0fad06b62f02",
   "metadata": {
    "tags": [
     "parameters"
    ]
   },
   "outputs": [],
   "source": [
    "# pass dir\n",
    "database_location = \"test_dir\""
   ]
  },
  {
   "cell_type": "code",
   "execution_count": null,
   "id": "c357c0be-a00e-49a6-9159-07a700ec861a",
   "metadata": {},
   "outputs": [],
   "source": [
    "# initialize database\n",
    "db = gnomAD_DB(database_location)"
   ]
  },
  {
   "cell_type": "markdown",
   "id": "42952d85-f2fe-4fd8-baed-a2097082ffd0",
   "metadata": {},
   "source": [
    "# Insert gnomAD variants into the database from single tsv file\n",
    "Look into insertVariants notebook to do it for big vcf files"
   ]
  },
  {
   "cell_type": "code",
   "execution_count": null,
   "id": "ac07902b-239b-479d-b81b-ecf37a67e163",
   "metadata": {},
   "outputs": [],
   "source": [
    "# get some variants\n",
    "var_df = pd.read_csv(\"data/test_vcf_gnomad_chr21_10000.tsv.gz\", sep=\"\\t\", names=db.columns, index_col=False)\n",
    "# preprocess missing values\n",
    "# IMPORTANT: The database removes internally chr prefix (chr1->1)\n",
    "var_df = var_df.replace(\".\", np.NaN)\n",
    "var_df.head()"
   ]
  },
  {
   "cell_type": "code",
   "execution_count": null,
   "id": "809032d1-44bf-48b9-9535-a5ac3cdeb26b",
   "metadata": {},
   "outputs": [],
   "source": [
    "# insert variants\n",
    "db.insert_variants(var_df)"
   ]
  },
  {
   "cell_type": "markdown",
   "id": "6bd78960-0cc4-4585-8096-0da88d5737f6",
   "metadata": {},
   "source": [
    "# Query MAF"
   ]
  },
  {
   "cell_type": "code",
   "execution_count": null,
   "id": "2f9dddfe-7ad7-4111-8b17-2199ee011db2",
   "metadata": {},
   "outputs": [],
   "source": [
    "# check db columns, which we can query\n",
    "db.columns"
   ]
  },
  {
   "cell_type": "code",
   "execution_count": null,
   "id": "bfcd6fa8-0e95-4cc3-85de-ee4eb46c5669",
   "metadata": {},
   "outputs": [],
   "source": [
    "var_df = var_df[[\"chrom\", \"pos\", \"ref\", \"alt\"]]\n",
    "var_df.head()"
   ]
  },
  {
   "cell_type": "markdown",
   "id": "7e73619c-fa1f-424b-ac70-0cf3bc746a6a",
   "metadata": {},
   "source": [
    "## You can pass a dataframe with variants\n",
    "It should contain the columns: [chrom, pos, ref, alt]"
   ]
  },
  {
   "cell_type": "code",
   "execution_count": null,
   "id": "60d26665-c328-4d6c-a33c-02ec7888f01a",
   "metadata": {},
   "outputs": [],
   "source": [
    "db.get_info_from_df(var_df, \"AF\").head() # only one columns"
   ]
  },
  {
   "cell_type": "code",
   "execution_count": null,
   "id": "0d47b008-4efc-4d7d-9fe7-b2257cb96ae0",
   "metadata": {},
   "outputs": [],
   "source": [
    "db.get_info_from_df(var_df, \"AF, AF_popmax\").head() # multiple columns"
   ]
  },
  {
   "cell_type": "code",
   "execution_count": null,
   "id": "29066ee1-379a-4af2-a384-1f9bcd00d2dd",
   "metadata": {},
   "outputs": [],
   "source": [
    "db.get_info_from_df(var_df, \"*\") # everything"
   ]
  },
  {
   "cell_type": "code",
   "execution_count": null,
   "id": "35082a03-0bdb-4493-b85c-1151e826aa0f",
   "metadata": {},
   "outputs": [],
   "source": [
    "dummy_var_df = pd.DataFrame({\n",
    "    \"chrom\": [\"1\", \"21\"], \n",
    "    \"pos\": [21, 9825790], \n",
    "    \"ref\": [\"T\", \"C\"], \n",
    "    \"alt\": [\"G\", \"T\"]})\n",
    "dummy_var_df"
   ]
  },
  {
   "cell_type": "code",
   "execution_count": null,
   "id": "2a08f971-b2d3-43cc-ac43-2b870d276c6b",
   "metadata": {},
   "outputs": [],
   "source": [
    "db.get_info_from_df(dummy_var_df, \"AF\")"
   ]
  },
  {
   "cell_type": "markdown",
   "id": "30788bc6-64b1-4e69-a171-8fc819a160a6",
   "metadata": {},
   "source": [
    "## You can pass a single string as a variant"
   ]
  },
  {
   "cell_type": "code",
   "execution_count": null,
   "id": "a3aa9db7-e9eb-4b25-a2aa-abd2b7e4ceb8",
   "metadata": {},
   "outputs": [],
   "source": [
    "db.get_info_from_str(\"21:9825790:C>T\", \"AF\")"
   ]
  },
  {
   "cell_type": "code",
   "execution_count": null,
   "id": "ae316d44-33f8-49b7-a888-a982668c21bd",
   "metadata": {},
   "outputs": [],
   "source": [
    "db.get_info_from_str(\"21:9825790:C>T\", \"*\")"
   ]
  },
  {
   "cell_type": "markdown",
   "id": "170a7abb-7e69-49f9-a875-fd7fed8650ad",
   "metadata": {},
   "source": [
    "## You can look for the MAF scores in an interval"
   ]
  },
  {
   "cell_type": "code",
   "execution_count": null,
   "id": "b62f9fe7-da67-44a2-b311-a51feb0071b5",
   "metadata": {},
   "outputs": [],
   "source": [
    "db.get_info_for_interval(chrom=21, interval_start=9825780, interval_end=9825799, query=\"*\")"
   ]
  }
 ],
 "metadata": {
  "jupytext": {
   "formats": "ipynb,py:percent"
  },
  "kernelspec": {
   "display_name": "utr_anno",
   "language": "python",
   "name": "utr_anno"
  },
  "language_info": {
   "codemirror_mode": {
    "name": "ipython",
    "version": 3
   },
   "file_extension": ".py",
   "mimetype": "text/x-python",
   "name": "python",
   "nbconvert_exporter": "python",
   "pygments_lexer": "ipython3",
   "version": "3.9.5"
  }
 },
 "nbformat": 4,
 "nbformat_minor": 5
}
