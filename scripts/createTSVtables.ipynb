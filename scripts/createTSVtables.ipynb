{
 "cells": [
  {
   "cell_type": "code",
   "execution_count": null,
   "id": "8feb2572",
   "metadata": {
    "papermill": {
     "duration": 0.336842,
     "end_time": "2021-05-05T20:00:58.655105",
     "exception": false,
     "start_time": "2021-05-05T20:00:58.318263",
     "status": "completed"
    },
    "tags": []
   },
   "outputs": [],
   "source": [
    "import glob\n",
    "from tqdm import tqdm\n",
    "from subprocess import PIPE, Popen\n",
    "import pandas as pd\n",
    "from joblib import Parallel, delayed\n",
    "import multiprocessing\n",
    "import os\n",
    "import yaml"
   ]
  },
  {
   "cell_type": "code",
   "execution_count": null,
   "id": "69750f17",
   "metadata": {
    "papermill": {
     "duration": 0.336842,
     "end_time": "2021-05-05T20:00:58.655105",
     "exception": false,
     "start_time": "2021-05-05T20:00:58.318263",
     "status": "completed"
    },
    "tags": []
   },
   "outputs": [],
   "source": [
    "#os.chdir(f'../')"
   ]
  },
  {
   "cell_type": "code",
   "execution_count": null,
   "id": "f29e77bc",
   "metadata": {
    "papermill": {
     "duration": 0.014665,
     "end_time": "2021-05-05T20:00:58.675108",
     "exception": false,
     "start_time": "2021-05-05T20:00:58.660443",
     "status": "completed"
    },
    "tags": [
     "parameters"
    ]
   },
   "outputs": [],
   "source": [
    "gnomad_vcf_location = \"test\"\n",
    "tables_location = \"test\"\n",
    "gnomad_version = \"v4\""
   ]
  },
  {
   "cell_type": "code",
   "execution_count": null,
   "id": "5c001a27",
   "metadata": {
    "papermill": {
     "duration": 0.014665,
     "end_time": "2021-05-05T20:00:58.675108",
     "exception": false,
     "start_time": "2021-05-05T20:00:58.660443",
     "status": "completed"
    },
    "tags": []
   },
   "outputs": [],
   "source": [
    "with open(\"gnomad_db/pkgdata/gnomad_columns.yaml\") as f:\n",
    "    columns = yaml.load(f, Loader=yaml.FullLoader)\n",
    "columns = columns[\"base_columns\"] + columns[gnomad_version]\n",
    "print(len(columns))\n",
    "columns[:10]"
   ]
  },
  {
   "cell_type": "code",
   "execution_count": null,
   "id": "d107dcc8",
   "metadata": {
    "papermill": {
     "duration": 0.014665,
     "end_time": "2021-05-05T20:00:58.675108",
     "exception": false,
     "start_time": "2021-05-05T20:00:58.660443",
     "status": "completed"
    },
    "tags": []
   },
   "outputs": [],
   "source": [
    "# get gnomAD files\n",
    "files = glob.glob(f\"{gnomad_vcf_location}/*.bgz\")\n",
    "print(len(files))\n",
    "files"
   ]
  },
  {
   "cell_type": "code",
   "execution_count": null,
   "id": "461a81da",
   "metadata": {
    "papermill": {
     "duration": 0.008922,
     "end_time": "2021-05-05T20:00:58.701950",
     "exception": false,
     "start_time": "2021-05-05T20:00:58.693028",
     "status": "completed"
    },
    "tags": []
   },
   "outputs": [],
   "source": [
    "# write gnomAD files to these tables:\n",
    "tables_location = [f'{tables_location}/{file.split(\"/\")[-1].replace(\".vcf.bgz\", \"\")}.tsv.gz' for file in files]\n",
    "tables_location"
   ]
  },
  {
   "cell_type": "code",
   "execution_count": null,
   "id": "76cdd30e",
   "metadata": {
    "papermill": {
     "duration": 0.008863,
     "end_time": "2021-05-05T20:00:58.715794",
     "exception": false,
     "start_time": "2021-05-05T20:00:58.706931",
     "status": "completed"
    },
    "tags": []
   },
   "outputs": [],
   "source": [
    "cpu_count = int(multiprocessing.cpu_count())\n",
    "cpu_count"
   ]
  },
  {
   "cell_type": "code",
   "execution_count": null,
   "id": "088135a0",
   "metadata": {
    "papermill": {
     "duration": 0.008863,
     "end_time": "2021-05-05T20:00:58.715794",
     "exception": false,
     "start_time": "2021-05-05T20:00:58.706931",
     "status": "completed"
    },
    "tags": []
   },
   "outputs": [],
   "source": [
    "# extract needed columns\n",
    "# if running DIRECTLY from notebook, add module load i12g/bcftools; in the beginning of cmd\n",
    "def create_table(file, table_location):\n",
    "    query_string = \"%\" + \"\\t%\".join(columns) + \"\\n\"\n",
    "    if not os.path.exists(table_location):\n",
    "        cmd = f\"bcftools query -f '{query_string}' {file} | gzip > {table_location}\"\n",
    "        p = Popen(cmd, shell=True, stdout=PIPE, stderr=PIPE)\n",
    "        print(p.communicate())\n",
    "    \n"
   ]
  },
  {
   "cell_type": "code",
   "execution_count": null,
   "id": "b2c59fe7",
   "metadata": {
    "papermill": {
     "duration": 0.329741,
     "end_time": "2021-05-05T20:00:59.051392",
     "exception": false,
     "start_time": "2021-05-05T20:00:58.721651",
     "status": "completed"
    },
    "tags": []
   },
   "outputs": [],
   "source": [
    "# run bcftools in parallel\n",
    "Parallel(cpu_count)(delayed(create_table)(file, table_location) for file, table_location in tqdm(zip(files, tables_location)))"
   ]
  },
  {
   "cell_type": "code",
   "execution_count": null,
   "id": "4c808880",
   "metadata": {},
   "outputs": [],
   "source": []
  }
 ],
 "metadata": {
  "jupytext": {
   "formats": "ipynb,py:percent"
  },
  "kernelspec": {
   "display_name": "gnomad_db",
   "language": "python",
   "name": "gnomad_db"
  },
  "language_info": {
   "codemirror_mode": {
    "name": "ipython",
    "version": 3
   },
   "file_extension": ".py",
   "mimetype": "text/x-python",
   "name": "python",
   "nbconvert_exporter": "python",
   "pygments_lexer": "ipython3",
   "version": "3.7.0"
  },
  "papermill": {
   "default_parameters": {},
   "duration": 3.276518,
   "end_time": "2021-05-05T20:01:00.357619",
   "environment_variables": {},
   "exception": null,
   "input_path": "createTSVtables.ipynb",
   "output_path": "createTSVtables_out.ipynb",
   "parameters": {},
   "start_time": "2021-05-05T20:00:57.081101",
   "version": "2.2.2"
  }
 },
 "nbformat": 4,
 "nbformat_minor": 5
}
