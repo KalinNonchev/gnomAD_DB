{
 "cells": [
  {
   "cell_type": "code",
   "execution_count": 1,
   "id": "24fdca4a",
   "metadata": {
    "papermill": {
     "duration": 0.336842,
     "end_time": "2021-05-05T20:00:58.655105",
     "exception": false,
     "start_time": "2021-05-05T20:00:58.318263",
     "status": "completed"
    },
    "tags": []
   },
   "outputs": [],
   "source": [
    "import glob\n",
    "from tqdm import tqdm\n",
    "from subprocess import PIPE, Popen\n",
    "import pandas as pd\n",
    "from joblib import Parallel, delayed\n",
    "import multiprocessing\n",
    "import os\n",
    "import yaml"
   ]
  },
  {
   "cell_type": "code",
   "execution_count": 4,
   "id": "bf59473a",
   "metadata": {
    "papermill": {
     "duration": 0.336842,
     "end_time": "2021-05-05T20:00:58.655105",
     "exception": false,
     "start_time": "2021-05-05T20:00:58.318263",
     "status": "completed"
    },
    "tags": []
   },
   "outputs": [],
   "source": [
    "#os.chdir(f'../')"
   ]
  },
  {
   "cell_type": "code",
   "execution_count": 8,
   "id": "5a4ad452",
   "metadata": {
    "papermill": {
     "duration": 0.014665,
     "end_time": "2021-05-05T20:00:58.675108",
     "exception": false,
     "start_time": "2021-05-05T20:00:58.660443",
     "status": "completed"
    },
    "tags": [
     "parameters"
    ]
   },
   "outputs": [],
   "source": [
    "gnomad_vcf_location = \"test\"\n",
    "tables_location = \"test\"\n",
    "gnomad_version = \"v4\""
   ]
  },
  {
   "cell_type": "code",
   "execution_count": 9,
   "id": "dbfa6122",
   "metadata": {
    "papermill": {
     "duration": 0.014665,
     "end_time": "2021-05-05T20:00:58.675108",
     "exception": false,
     "start_time": "2021-05-05T20:00:58.660443",
     "status": "completed"
    },
    "tags": []
   },
   "outputs": [
    {
     "name": "stdout",
     "output_type": "stream",
     "text": [
      "19\n"
     ]
    },
    {
     "data": {
      "text/plain": [
       "['CHROM',\n",
       " 'POS',\n",
       " 'REF',\n",
       " 'ALT',\n",
       " 'FILTER',\n",
       " 'AC',\n",
       " 'AN',\n",
       " 'AF',\n",
       " 'InbreedingCoeff',\n",
       " 'MQ']"
      ]
     },
     "execution_count": 9,
     "metadata": {},
     "output_type": "execute_result"
    }
   ],
   "source": [
    "with open(\"gnomad_db/pkgdata/gnomad_columns.yaml\") as f:\n",
    "    columns = yaml.load(f, Loader=yaml.FullLoader)\n",
    "columns = columns[\"base_columns\"] + columns[gnomad_version]\n",
    "print(len(columns))\n",
    "columns[:10]"
   ]
  },
  {
   "cell_type": "code",
   "execution_count": 10,
   "id": "3a9be105",
   "metadata": {
    "papermill": {
     "duration": 0.014665,
     "end_time": "2021-05-05T20:00:58.675108",
     "exception": false,
     "start_time": "2021-05-05T20:00:58.660443",
     "status": "completed"
    },
    "tags": []
   },
   "outputs": [
    {
     "name": "stdout",
     "output_type": "stream",
     "text": [
      "24\n"
     ]
    },
    {
     "data": {
      "text/plain": [
       "['/mnt/biocluster/praktikum/tutorium_19/gnomad_db/data/exomes/gnomad.exomes.v4.0.sites.chr19.vcf.bgz',\n",
       " '/mnt/biocluster/praktikum/tutorium_19/gnomad_db/data/exomes/gnomad.exomes.v4.0.sites.chr1.vcf.bgz',\n",
       " '/mnt/biocluster/praktikum/tutorium_19/gnomad_db/data/exomes/gnomad.exomes.v4.0.sites.chrY.vcf.bgz',\n",
       " '/mnt/biocluster/praktikum/tutorium_19/gnomad_db/data/exomes/gnomad.exomes.v4.0.sites.chr8.vcf.bgz',\n",
       " '/mnt/biocluster/praktikum/tutorium_19/gnomad_db/data/exomes/gnomad.exomes.v4.0.sites.chr21.vcf.bgz',\n",
       " '/mnt/biocluster/praktikum/tutorium_19/gnomad_db/data/exomes/gnomad.exomes.v4.0.sites.chr3.vcf.bgz',\n",
       " '/mnt/biocluster/praktikum/tutorium_19/gnomad_db/data/exomes/gnomad.exomes.v4.0.sites.chr14.vcf.bgz',\n",
       " '/mnt/biocluster/praktikum/tutorium_19/gnomad_db/data/exomes/gnomad.exomes.v4.0.sites.chr9.vcf.bgz',\n",
       " '/mnt/biocluster/praktikum/tutorium_19/gnomad_db/data/exomes/gnomad.exomes.v4.0.sites.chr16.vcf.bgz',\n",
       " '/mnt/biocluster/praktikum/tutorium_19/gnomad_db/data/exomes/gnomad.exomes.v4.0.sites.chr11.vcf.bgz',\n",
       " '/mnt/biocluster/praktikum/tutorium_19/gnomad_db/data/exomes/gnomad.exomes.v4.0.sites.chr20.vcf.bgz',\n",
       " '/mnt/biocluster/praktikum/tutorium_19/gnomad_db/data/exomes/gnomad.exomes.v4.0.sites.chr5.vcf.bgz',\n",
       " '/mnt/biocluster/praktikum/tutorium_19/gnomad_db/data/exomes/gnomad.exomes.v4.0.sites.chr2.vcf.bgz',\n",
       " '/mnt/biocluster/praktikum/tutorium_19/gnomad_db/data/exomes/gnomad.exomes.v4.0.sites.chr10.vcf.bgz',\n",
       " '/mnt/biocluster/praktikum/tutorium_19/gnomad_db/data/exomes/gnomad.exomes.v4.0.sites.chr4.vcf.bgz',\n",
       " '/mnt/biocluster/praktikum/tutorium_19/gnomad_db/data/exomes/gnomad.exomes.v4.0.sites.chr12.vcf.bgz',\n",
       " '/mnt/biocluster/praktikum/tutorium_19/gnomad_db/data/exomes/gnomad.exomes.v4.0.sites.chrX.vcf.bgz',\n",
       " '/mnt/biocluster/praktikum/tutorium_19/gnomad_db/data/exomes/gnomad.exomes.v4.0.sites.chr17.vcf.bgz',\n",
       " '/mnt/biocluster/praktikum/tutorium_19/gnomad_db/data/exomes/gnomad.exomes.v4.0.sites.chr13.vcf.bgz',\n",
       " '/mnt/biocluster/praktikum/tutorium_19/gnomad_db/data/exomes/gnomad.exomes.v4.0.sites.chr6.vcf.bgz',\n",
       " '/mnt/biocluster/praktikum/tutorium_19/gnomad_db/data/exomes/gnomad.exomes.v4.0.sites.chr15.vcf.bgz',\n",
       " '/mnt/biocluster/praktikum/tutorium_19/gnomad_db/data/exomes/gnomad.exomes.v4.0.sites.chr18.vcf.bgz',\n",
       " '/mnt/biocluster/praktikum/tutorium_19/gnomad_db/data/exomes/gnomad.exomes.v4.0.sites.chr22.vcf.bgz',\n",
       " '/mnt/biocluster/praktikum/tutorium_19/gnomad_db/data/exomes/gnomad.exomes.v4.0.sites.chr7.vcf.bgz']"
      ]
     },
     "execution_count": 10,
     "metadata": {},
     "output_type": "execute_result"
    }
   ],
   "source": [
    "# get gnomAD files\n",
    "files = glob.glob(f\"{gnomad_vcf_location}/*.bgz\")\n",
    "print(len(files))\n",
    "files"
   ]
  },
  {
   "cell_type": "code",
   "execution_count": 11,
   "id": "9c94c5b3",
   "metadata": {
    "papermill": {
     "duration": 0.008922,
     "end_time": "2021-05-05T20:00:58.701950",
     "exception": false,
     "start_time": "2021-05-05T20:00:58.693028",
     "status": "completed"
    },
    "tags": []
   },
   "outputs": [
    {
     "data": {
      "text/plain": [
       "['/mnt/biocluster/praktikum/tutorium_19/gnomad_db/data/exomes/gnomad.exomes.v4.0.sites.chr19.tsv.gz',\n",
       " '/mnt/biocluster/praktikum/tutorium_19/gnomad_db/data/exomes/gnomad.exomes.v4.0.sites.chr1.tsv.gz',\n",
       " '/mnt/biocluster/praktikum/tutorium_19/gnomad_db/data/exomes/gnomad.exomes.v4.0.sites.chrY.tsv.gz',\n",
       " '/mnt/biocluster/praktikum/tutorium_19/gnomad_db/data/exomes/gnomad.exomes.v4.0.sites.chr8.tsv.gz',\n",
       " '/mnt/biocluster/praktikum/tutorium_19/gnomad_db/data/exomes/gnomad.exomes.v4.0.sites.chr21.tsv.gz',\n",
       " '/mnt/biocluster/praktikum/tutorium_19/gnomad_db/data/exomes/gnomad.exomes.v4.0.sites.chr3.tsv.gz',\n",
       " '/mnt/biocluster/praktikum/tutorium_19/gnomad_db/data/exomes/gnomad.exomes.v4.0.sites.chr14.tsv.gz',\n",
       " '/mnt/biocluster/praktikum/tutorium_19/gnomad_db/data/exomes/gnomad.exomes.v4.0.sites.chr9.tsv.gz',\n",
       " '/mnt/biocluster/praktikum/tutorium_19/gnomad_db/data/exomes/gnomad.exomes.v4.0.sites.chr16.tsv.gz',\n",
       " '/mnt/biocluster/praktikum/tutorium_19/gnomad_db/data/exomes/gnomad.exomes.v4.0.sites.chr11.tsv.gz',\n",
       " '/mnt/biocluster/praktikum/tutorium_19/gnomad_db/data/exomes/gnomad.exomes.v4.0.sites.chr20.tsv.gz',\n",
       " '/mnt/biocluster/praktikum/tutorium_19/gnomad_db/data/exomes/gnomad.exomes.v4.0.sites.chr5.tsv.gz',\n",
       " '/mnt/biocluster/praktikum/tutorium_19/gnomad_db/data/exomes/gnomad.exomes.v4.0.sites.chr2.tsv.gz',\n",
       " '/mnt/biocluster/praktikum/tutorium_19/gnomad_db/data/exomes/gnomad.exomes.v4.0.sites.chr10.tsv.gz',\n",
       " '/mnt/biocluster/praktikum/tutorium_19/gnomad_db/data/exomes/gnomad.exomes.v4.0.sites.chr4.tsv.gz',\n",
       " '/mnt/biocluster/praktikum/tutorium_19/gnomad_db/data/exomes/gnomad.exomes.v4.0.sites.chr12.tsv.gz',\n",
       " '/mnt/biocluster/praktikum/tutorium_19/gnomad_db/data/exomes/gnomad.exomes.v4.0.sites.chrX.tsv.gz',\n",
       " '/mnt/biocluster/praktikum/tutorium_19/gnomad_db/data/exomes/gnomad.exomes.v4.0.sites.chr17.tsv.gz',\n",
       " '/mnt/biocluster/praktikum/tutorium_19/gnomad_db/data/exomes/gnomad.exomes.v4.0.sites.chr13.tsv.gz',\n",
       " '/mnt/biocluster/praktikum/tutorium_19/gnomad_db/data/exomes/gnomad.exomes.v4.0.sites.chr6.tsv.gz',\n",
       " '/mnt/biocluster/praktikum/tutorium_19/gnomad_db/data/exomes/gnomad.exomes.v4.0.sites.chr15.tsv.gz',\n",
       " '/mnt/biocluster/praktikum/tutorium_19/gnomad_db/data/exomes/gnomad.exomes.v4.0.sites.chr18.tsv.gz',\n",
       " '/mnt/biocluster/praktikum/tutorium_19/gnomad_db/data/exomes/gnomad.exomes.v4.0.sites.chr22.tsv.gz',\n",
       " '/mnt/biocluster/praktikum/tutorium_19/gnomad_db/data/exomes/gnomad.exomes.v4.0.sites.chr7.tsv.gz']"
      ]
     },
     "execution_count": 11,
     "metadata": {},
     "output_type": "execute_result"
    }
   ],
   "source": [
    "# write gnomAD files to these tables:\n",
    "tables_location = [f'{tables_location}/{file.split(\"/\")[-1].replace(\".vcf.bgz\", \"\")}.tsv.gz' for file in files]\n",
    "tables_location"
   ]
  },
  {
   "cell_type": "code",
   "execution_count": 12,
   "id": "c6372e88",
   "metadata": {
    "papermill": {
     "duration": 0.008863,
     "end_time": "2021-05-05T20:00:58.715794",
     "exception": false,
     "start_time": "2021-05-05T20:00:58.706931",
     "status": "completed"
    },
    "tags": []
   },
   "outputs": [
    {
     "data": {
      "text/plain": [
       "12"
      ]
     },
     "execution_count": 12,
     "metadata": {},
     "output_type": "execute_result"
    }
   ],
   "source": [
    "cpu_count = int(multiprocessing.cpu_count())\n",
    "cpu_count"
   ]
  },
  {
   "cell_type": "code",
   "execution_count": 13,
   "id": "742ef702",
   "metadata": {
    "papermill": {
     "duration": 0.008863,
     "end_time": "2021-05-05T20:00:58.715794",
     "exception": false,
     "start_time": "2021-05-05T20:00:58.706931",
     "status": "completed"
    },
    "tags": []
   },
   "outputs": [],
   "source": [
    "# extract needed columns\n",
    "# if running DIRECTLY from notebook, add module load i12g/bcftools; in the beginning of cmd\n",
    "def create_table(file, table_location):\n",
    "    query_string = \"%\" + \"\\t%\".join(columns) + \"\\n\"\n",
    "    if not os.path.exists(table_location):\n",
    "        cmd = f\"bcftools query -f '{query_string}' {file} | gzip > {table_location}\"\n",
    "        p = Popen(cmd, shell=True, stdout=PIPE, stderr=PIPE)\n",
    "        print(p.communicate())\n",
    "    \n"
   ]
  },
  {
   "cell_type": "code",
   "execution_count": 14,
   "id": "589e7a3a",
   "metadata": {
    "papermill": {
     "duration": 0.329741,
     "end_time": "2021-05-05T20:00:59.051392",
     "exception": false,
     "start_time": "2021-05-05T20:00:58.721651",
     "status": "completed"
    },
    "tags": []
   },
   "outputs": [
    {
     "name": "stderr",
     "output_type": "stream",
     "text": [
      "24it [00:00, 61.20it/s] \n"
     ]
    },
    {
     "data": {
      "text/plain": [
       "[None,\n",
       " None,\n",
       " None,\n",
       " None,\n",
       " None,\n",
       " None,\n",
       " None,\n",
       " None,\n",
       " None,\n",
       " None,\n",
       " None,\n",
       " None,\n",
       " None,\n",
       " None,\n",
       " None,\n",
       " None,\n",
       " None,\n",
       " None,\n",
       " None,\n",
       " None,\n",
       " None,\n",
       " None,\n",
       " None,\n",
       " None]"
      ]
     },
     "execution_count": 14,
     "metadata": {},
     "output_type": "execute_result"
    },
    {
     "name": "stdout",
     "output_type": "stream",
     "text": [
      "(b'', b'/bin/sh: 1: bcftools: not found\\n')\n",
      "(b'', b'/bin/sh: 1: bcftools: not found\\n')\n",
      "(b'', b'/bin/sh: 1: bcftools: not found\\n')\n",
      "(b'', b'/bin/sh: 1: bcftools: not found\\n')\n",
      "(b'', b'/bin/sh: 1: bcftools: not found\\n')\n",
      "(b'', b'/bin/sh: 1: bcftools: not found\\n')\n",
      "(b'', b'/bin/sh: 1: bcftools: not found\\n')\n",
      "(b'', b'/bin/sh: 1: bcftools: not found\\n')\n",
      "(b'', b'/bin/sh: 1: bcftools: not found\\n')\n",
      "(b'', b'/bin/sh: 1: bcftools: not found\\n')\n",
      "(b'', b'/bin/sh: 1: bcftools: not found\\n')\n",
      "(b'', b'/bin/sh: 1: bcftools: not found\\n')\n",
      "(b'', b'/bin/sh: 1: bcftools: not found\\n')\n",
      "(b'', b'/bin/sh: 1: bcftools: not found\\n')\n",
      "(b'', b'/bin/sh: 1: bcftools: not found\\n')\n",
      "(b'', b'/bin/sh: 1: bcftools: not found\\n')\n",
      "(b'', b'/bin/sh: 1: bcftools: not found\\n')\n",
      "(b'', b'/bin/sh: 1: bcftools: not found\\n')\n",
      "(b'', b'/bin/sh: 1: bcftools: not found\\n')\n",
      "(b'', b'/bin/sh: 1: bcftools: not found\\n')\n",
      "(b'', b'/bin/sh: 1: bcftools: not found\\n')\n",
      "(b'', b'/bin/sh: 1: bcftools: not found\\n')\n",
      "(b'', b'/bin/sh: 1: bcftools: not found\\n')\n",
      "(b'', b'/bin/sh: 1: bcftools: not found\\n')\n"
     ]
    }
   ],
   "source": [
    "# run bcftools in parallel\n",
    "Parallel(cpu_count)(delayed(create_table)(file, table_location) for file, table_location in tqdm(zip(files, tables_location)))"
   ]
  },
  {
   "cell_type": "code",
   "execution_count": null,
   "id": "46394a5c",
   "metadata": {},
   "outputs": [],
   "source": []
  }
 ],
 "metadata": {
  "jupytext": {
   "formats": "ipynb,py:percent"
  },
  "kernelspec": {
   "display_name": "gnomad_db",
   "language": "python",
   "name": "gnomad_db"
  },
  "language_info": {
   "codemirror_mode": {
    "name": "ipython",
    "version": 3
   },
   "file_extension": ".py",
   "mimetype": "text/x-python",
   "name": "python",
   "nbconvert_exporter": "python",
   "pygments_lexer": "ipython3",
   "version": "3.11.6"
  },
  "papermill": {
   "default_parameters": {},
   "duration": 3.276518,
   "end_time": "2021-05-05T20:01:00.357619",
   "environment_variables": {},
   "exception": null,
   "input_path": "createTSVtables.ipynb",
   "output_path": "createTSVtables_out.ipynb",
   "parameters": {},
   "start_time": "2021-05-05T20:00:57.081101",
   "version": "2.2.2"
  }
 },
 "nbformat": 4,
 "nbformat_minor": 5
}
