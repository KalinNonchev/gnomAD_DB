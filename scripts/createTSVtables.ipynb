{
 "cells": [
  {
   "cell_type": "code",
   "execution_count": null,
   "id": "33518e70-dfd3-4799-9112-50f4055abc6f",
   "metadata": {
    "papermill": {
     "duration": 0.336842,
     "end_time": "2021-05-05T20:00:58.655105",
     "exception": false,
     "start_time": "2021-05-05T20:00:58.318263",
     "status": "completed"
    },
    "tags": []
   },
   "outputs": [],
   "source": [
    "import glob\n",
    "from tqdm import tqdm\n",
    "from subprocess import PIPE, Popen\n",
    "import pandas as pd\n",
    "from joblib import Parallel, delayed\n",
    "import multiprocessing\n",
    "import os"
   ]
  },
  {
   "cell_type": "code",
   "execution_count": null,
   "id": "8ba7a210-a098-4d64-8a28-b394164447f3",
   "metadata": {
    "papermill": {
     "duration": 0.014665,
     "end_time": "2021-05-05T20:00:58.675108",
     "exception": false,
     "start_time": "2021-05-05T20:00:58.660443",
     "status": "completed"
    },
    "tags": [
     "parameters"
    ]
   },
   "outputs": [],
   "source": [
    "gnomad_vcf_location = \"test\"\n",
    "tables_location = \"test\""
   ]
  },
  {
   "cell_type": "code",
   "execution_count": null,
   "id": "d81068ea-1cba-46e5-9031-ff965491c489",
   "metadata": {
    "papermill": {
     "duration": 0.014665,
     "end_time": "2021-05-05T20:00:58.675108",
     "exception": false,
     "start_time": "2021-05-05T20:00:58.660443",
     "status": "completed"
    },
    "tags": []
   },
   "outputs": [],
   "source": [
    "# get gnomAD files\n",
    "files = glob.glob(f\"{gnomad_vcf_location}/*.bgz\")\n",
    "print(len(files))\n",
    "files"
   ]
  },
  {
   "cell_type": "code",
   "execution_count": null,
   "id": "4f67a4d0-64df-4adc-854b-45ae069e1dd0",
   "metadata": {
    "papermill": {
     "duration": 0.008922,
     "end_time": "2021-05-05T20:00:58.701950",
     "exception": false,
     "start_time": "2021-05-05T20:00:58.693028",
     "status": "completed"
    },
    "tags": []
   },
   "outputs": [],
   "source": [
    "# write gnomAD files to these tables:\n",
    "tables_location = [f'{tables_location}/{file.split(\"/\")[-1].replace(\".vcf.bgz\", \"\")}.tsv.gz' for file in files]\n",
    "tables_location"
   ]
  },
  {
   "cell_type": "code",
   "execution_count": null,
   "id": "f3b2f898-f126-476b-bab5-d087e27bb0a7",
   "metadata": {
    "papermill": {
     "duration": 0.008863,
     "end_time": "2021-05-05T20:00:58.715794",
     "exception": false,
     "start_time": "2021-05-05T20:00:58.706931",
     "status": "completed"
    },
    "tags": []
   },
   "outputs": [],
   "source": [
    "cpu_count = int(multiprocessing.cpu_count())\n",
    "cpu_count"
   ]
  },
  {
   "cell_type": "code",
   "execution_count": null,
   "id": "ae0419e4-55bd-484b-b2f2-981d67457504",
   "metadata": {
    "papermill": {
     "duration": 0.008863,
     "end_time": "2021-05-05T20:00:58.715794",
     "exception": false,
     "start_time": "2021-05-05T20:00:58.706931",
     "status": "completed"
    },
    "tags": []
   },
   "outputs": [],
   "source": [
    "# extract needed columns\n",
    "# if running DIRECTLY from notebook, add module load i12g/bcftools; in the beginning of cmd\n",
    "def create_table(file, table_location):\n",
    "    if \"chrM\" in file:\n",
    "        query_string = \"%CHROM\\t%POS\\t%REF\\t%ALT\\t%AF_hom\\t%AF_het\\n\"\n",
    "    else:\n",
    "        query_string = \"%CHROM\\t%POS\\t%REF\\t%ALT\\t%AF\\t%AF_afr\\t%AF_eas\\t%AF_fin\\t%AF_nfe\\t%AF_asj\\t%AF_oth\\t%AF_popmax\\n\"\n",
    "    if not os.path.exists(table_location):\n",
    "        cmd = f\"bcftools query -f '{query_string}' {file} | gzip > {table_location}\"\n",
    "        p = Popen(cmd, shell=True, stdout=PIPE, stderr=PIPE)\n",
    "        print(p.communicate())\n",
    "    "
   ]
  },
  {
   "cell_type": "code",
   "execution_count": null,
   "id": "10632f00-164b-40e1-9860-149c93a01c45",
   "metadata": {
    "papermill": {
     "duration": 0.329741,
     "end_time": "2021-05-05T20:00:59.051392",
     "exception": false,
     "start_time": "2021-05-05T20:00:58.721651",
     "status": "completed"
    },
    "tags": []
   },
   "outputs": [],
   "source": [
    "# run bcftools in parallel\n",
    "Parallel(cpu_count)(delayed(create_table)(file, table_location) for file, table_location in tqdm(zip(files, tables_location)))"
   ]
  }
 ],
 "metadata": {
  "jupytext": {
   "formats": "ipynb,py:percent"
  },
  "kernelspec": {
   "display_name": "utr_anno",
   "language": "python",
   "name": "utr_anno"
  },
  "language_info": {
   "codemirror_mode": {
    "name": "ipython",
    "version": 3
   },
   "file_extension": ".py",
   "mimetype": "text/x-python",
   "name": "python",
   "nbconvert_exporter": "python",
   "pygments_lexer": "ipython3",
   "version": "3.9.5"
  },
  "papermill": {
   "default_parameters": {},
   "duration": 3.276518,
   "end_time": "2021-05-05T20:01:00.357619",
   "environment_variables": {},
   "exception": null,
   "input_path": "createTSVtables.ipynb",
   "output_path": "createTSVtables_out.ipynb",
   "parameters": {},
   "start_time": "2021-05-05T20:00:57.081101",
   "version": "2.2.2"
  }
 },
 "nbformat": 4,
 "nbformat_minor": 5
}
